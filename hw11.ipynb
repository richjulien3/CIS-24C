{
 "cells": [
  {
   "cell_type": "markdown",
   "metadata": {},
   "source": [
    "\n",
    "# CIS024C - Summer 2018\n",
    "\n",
    "## Homework 11\n",
    "\n",
    "Homework 11 covers object oriented programming in Python\n",
    "\n",
    "The below sites have some interesting and useful information on working with files\n",
    "\n",
    "https://drive.google.com/open?id=1OrcpXEmhvgcJxSlchIBsvmXST0lG_uKx\n",
    "http://www.tutorialspoint.com/python/python_classes_objects.htm\n",
    "\n",
    "You will need to download this notebook and use this as a starting point for your homework. You will just need to fill in the content of each code-block (cell) and execute. Once you have completed all the exercises, you will need to save and upload this to your github repository under a folder called hw10.\n",
    "\n",
    "Note also the exercises build on top of one another so you might be able to do the next exercise if you have not completed the previous exercise.\n",
    "\n",
    "Post any questions you have on our Slack at **cis-024c1.slack.com**\n",
    "\n",
    "Slides\n",
    "\n",
    "https://docs.google.com/presentation/d/1AigvCKV1yb3PrrcT5xt3IqyAwGpv6IKMNWYUiQ2Oy6k/edit?usp=sharing\n",
    "\n",
    "**Please refer back to hw1 and slack for instructions on how to setup your computer for developing using Python.**"
   ]
  },
  {
   "cell_type": "markdown",
   "metadata": {},
   "source": [
    "### Helpful Jupyter Commands\n",
    "\n",
    "Below are some useful commands to know when using Jupyter\n",
    "\n",
    "1. You can add a new cell by clicking on the \"+\" icon on top.\n",
    "2. You can delete a cell by selecting that cell and clicking on the \"scissors\" icon on top.\n",
    "3. You can execute a cell by either pressing shift+enter or selecting the \"play\" button on top.\n",
    "4. You can create a new file in Jupyter via the File menu->New Notebook option. Make sure to select Python 2 when creating your notebook.\n",
    "5. Also, for your code blocks make sure that Code is selected instead of another option like Markdown.\n",
    "6. Use the Enter key to go to the next line in a cell to enter the next statement.\n",
    "7. You can clear results by clicking on the Cell menu item and selecting Current Output->Clear or All Output->Clear depending on whether you are trying to just clear the output for one cell or for all cells.\n",
    "8. In case your program has crashed for some reason (infinite loop, for example), you can restart your Python session by select Kernel in the menu and selecting Restart.\n"
   ]
  },
  {
   "cell_type": "markdown",
   "metadata": {},
   "source": [
    "#### Check Python Version"
   ]
  },
  {
   "cell_type": "code",
   "execution_count": null,
   "metadata": {},
   "outputs": [],
   "source": [
    "!python --version"
   ]
  },
  {
   "cell_type": "markdown",
   "metadata": {},
   "source": [
    "**Exercise 1 - Testing your knowledge of object oriented programming concepts **\n",
    "\n",
    "Answer the below questions\n",
    "\n",
    "1. Why do we need classes?\n",
    "2. What is encapsulation?"
   ]
  },
  {
   "cell_type": "markdown",
   "metadata": {},
   "source": [
    "1. Classes are used to create oobjects which have funtions/methods and variables.  Classes themselves are just descriptors that provide the context for objects, but it is only when data/content is added (following that descriptor) that an object becomes valid.  This allows a single description/context provided by a class to be applied to millions(or more) of objects without having to alter or specify that context for each object. \n",
    "2. Encapsulation allows you to restrict access to methods and variables so that the data cannot be modified by accident as it requires modification to be done explicitly.  This provides the developer(s) more control over their code and how it is implemented/coupled/modified and allows you to change the calss or how it is implemented without affecting other portions of the code."
   ]
  },
  {
   "cell_type": "markdown",
   "metadata": {},
   "source": [
    "** Exercise 2 - Class creation **\n",
    "\n",
    "Create a Python class named **Employee** with the following attributes and methods\n",
    "\n",
    "Data members\n",
    "```\n",
    "1. employeeName  - type string\n",
    "2. employeeAge  - type int\n",
    "3. employeeSalary - type float\n",
    "```\n",
    "\n",
    "Methods:\n",
    "```\n",
    "1. getEmployee - returns employee name\n",
    "2. getEmployeeAge - gets the employee age\n",
    "3. getEmployeeSalary - returns the employee salary\n",
    "4. __init__ - initialize method accepts the name, age and salary of the employee\n",
    "```\n",
    "\n",
    "Create an object of type Employee and initialize with arbitrary values. Invoke the get methods and display the result."
   ]
  },
  {
   "cell_type": "code",
   "execution_count": 1,
   "metadata": {},
   "outputs": [],
   "source": [
    "class Employee():\n",
    "\n",
    "    # employeeName = name\n",
    "    # employeeAge = age\n",
    "    # emplyeeSalary = salary\n",
    "    \n",
    "    \n",
    "    def __init__(self,name,age,salary):\n",
    "        self.name = name\n",
    "        self.age = int(age)\n",
    "        self.salary = float(salary)\n",
    "        \n",
    "    def getName(self,name):\n",
    "        self.name = name\n",
    "        \n",
    "    def getAge(self,age):\n",
    "        self.age = age\n",
    "        \n",
    "    def getSalary(self,salary):\n",
    "        self.salary = salary\n",
    "\n",
    "    def printEmployeeDetails(self):\n",
    "        print(self.name)\n",
    "        print(self.age)\n",
    "        print(self.salary)\n",
    "        \n",
    "### END CODE"
   ]
  },
  {
   "cell_type": "code",
   "execution_count": 2,
   "metadata": {},
   "outputs": [],
   "source": [
    "employee1 = Employee(\"Bob\",55,10000)"
   ]
  },
  {
   "cell_type": "code",
   "execution_count": 3,
   "metadata": {},
   "outputs": [
    {
     "data": {
      "text/plain": [
       "<__main__.Employee at 0x296a6230d68>"
      ]
     },
     "execution_count": 3,
     "metadata": {},
     "output_type": "execute_result"
    }
   ],
   "source": [
    "employee1"
   ]
  },
  {
   "cell_type": "code",
   "execution_count": 4,
   "metadata": {},
   "outputs": [
    {
     "name": "stdout",
     "output_type": "stream",
     "text": [
      "Bob\n",
      "55\n",
      "10000.0\n"
     ]
    }
   ],
   "source": [
    "print(employee1.name)\n",
    "print(employee1.age)\n",
    "print(employee1.salary)"
   ]
  },
  {
   "cell_type": "markdown",
   "metadata": {},
   "source": [
    "#### Exercise 3 - Private members\n",
    "\n",
    "In the above **Employee** class make the employeeName, employeeAge and employeeSalary private so that their access is restricted to only within the class."
   ]
  },
  {
   "cell_type": "code",
   "execution_count": 38,
   "metadata": {},
   "outputs": [],
   "source": [
    "class restrictEmployee():\n",
    "\n",
    "    # employeeName = name\n",
    "    # employeeAge = age\n",
    "    # emplyeeSalary = salary\n",
    "    \n",
    "    \n",
    "    def __init__(self,name,age,salary):\n",
    "        self._name = name\n",
    "        self._age = int(age)\n",
    "        self._salary = float(salary)\n",
    "        \n",
    "    def getName(self,name):\n",
    "        self.name = name\n",
    "        \n",
    "    def getAge(self,age):\n",
    "        self.age = age\n",
    "        \n",
    "    def getSalary(self,salary):\n",
    "        self.salary = salary\n",
    "\n",
    "    def printEmployeeDetails(self):\n",
    "        print(self._name)\n",
    "        print(self._age)\n",
    "        print(self._salary)\n",
    "        \n",
    "\n",
    "### END CODE"
   ]
  },
  {
   "cell_type": "code",
   "execution_count": 39,
   "metadata": {},
   "outputs": [],
   "source": [
    "employee1 = restrictEmployee(\"Bob\",55,10000)"
   ]
  },
  {
   "cell_type": "code",
   "execution_count": 40,
   "metadata": {},
   "outputs": [
    {
     "data": {
      "text/plain": [
       "<__main__.restrictEmployee at 0x12c32c90e10>"
      ]
     },
     "execution_count": 40,
     "metadata": {},
     "output_type": "execute_result"
    }
   ],
   "source": [
    "employee1"
   ]
  },
  {
   "cell_type": "code",
   "execution_count": 41,
   "metadata": {},
   "outputs": [
    {
     "ename": "AttributeError",
     "evalue": "'restrictEmployee' object has no attribute 'name'",
     "output_type": "error",
     "traceback": [
      "\u001b[1;31m---------------------------------------------------------------------------\u001b[0m",
      "\u001b[1;31mAttributeError\u001b[0m                            Traceback (most recent call last)",
      "\u001b[1;32m<ipython-input-41-5cd6e5632067>\u001b[0m in \u001b[0;36m<module>\u001b[1;34m()\u001b[0m\n\u001b[1;32m----> 1\u001b[1;33m \u001b[0mprint\u001b[0m\u001b[1;33m(\u001b[0m\u001b[0memployee1\u001b[0m\u001b[1;33m.\u001b[0m\u001b[0mname\u001b[0m\u001b[1;33m)\u001b[0m\u001b[1;33m\u001b[0m\u001b[0m\n\u001b[0m\u001b[0;32m      2\u001b[0m \u001b[0mprint\u001b[0m\u001b[1;33m(\u001b[0m\u001b[0memployee1\u001b[0m\u001b[1;33m.\u001b[0m\u001b[0mage\u001b[0m\u001b[1;33m)\u001b[0m\u001b[1;33m\u001b[0m\u001b[0m\n\u001b[0;32m      3\u001b[0m \u001b[0mprint\u001b[0m\u001b[1;33m(\u001b[0m\u001b[0memployee1\u001b[0m\u001b[1;33m.\u001b[0m\u001b[0msalary\u001b[0m\u001b[1;33m)\u001b[0m\u001b[1;33m\u001b[0m\u001b[0m\n",
      "\u001b[1;31mAttributeError\u001b[0m: 'restrictEmployee' object has no attribute 'name'"
     ]
    }
   ],
   "source": [
    "print(employee1.name)\n",
    "print(employee1.age)\n",
    "print(employee1.salary)"
   ]
  },
  {
   "cell_type": "code",
   "execution_count": 42,
   "metadata": {},
   "outputs": [
    {
     "name": "stdout",
     "output_type": "stream",
     "text": [
      "Bob\n",
      "55\n",
      "10000.0\n"
     ]
    }
   ],
   "source": [
    "print(employee1._name)\n",
    "print(employee1._age)\n",
    "print(employee1._salary)"
   ]
  },
  {
   "cell_type": "markdown",
   "metadata": {},
   "source": [
    "#### Exercise 4 - Adding setters and working with a list of Employees\n",
    "\n",
    "In the **Employee** class add the following methods\n",
    "\n",
    "```\n",
    "1. setEmployeeAge - accepts age and sets it in the object\n",
    "2. setEmployeeName - accepts employee name and sets it in the object\n",
    "3. setEmployeeSalary - accepts employee salary and sets it i nthe object\n",
    "```\n",
    "\n",
    "Create a list of employees called employeeList. Initialize the list with three objects of type Employee. Initialize the object with the values \"None\" for employeeName, 0 for employeeAge and 0 for employeeSalary.\n",
    "\n",
    "Loop  through each employee in the employeeList. Each time, request the user to enter the name, age and salary of a different employee. Use the set methods to set the name, age and salary for each employee in the employeeList.\n",
    "\n",
    "Loop through each employee in the employeeList. Display the name, age and salary of each employee."
   ]
  },
  {
   "cell_type": "code",
   "execution_count": 19,
   "metadata": {},
   "outputs": [
    {
     "name": "stdout",
     "output_type": "stream",
     "text": [
      "Enter Employee 1 Name: Alice\n",
      "Enter Employee 1 Age: 22\n",
      "Enter Employee 1 Salary: 22000\n",
      "Enter Employee 2 Name: Bob\n",
      "Enter Employee 2 Age: 33\n",
      "Enter Employee 2 Salary: 33000\n",
      "Enter Employee 3 Name: Cat\n",
      "Enter Employee 3 Age: 44\n",
      "Enter Employee 3 Salary: 44000\n"
     ]
    }
   ],
   "source": [
    "## Program to create Employees and write them to file employeelist.txt\n",
    "## Embeded but commented out in class below\n",
    "## Got tired of entering it multiple times\n",
    "\n",
    "\n",
    "text = open('employeelist.txt', 'a')\n",
    "\n",
    "inputs = 0\n",
    "maxInputs = 3\n",
    "\n",
    "while inputs < maxInputs:\n",
    "    name = input(\"Enter Employee %d Name: \" % (inputs + 1))\n",
    "    age = int(input(\"Enter Employee %d Age: \" % (inputs + 1)))\n",
    "    salary = float(input(\"Enter Employee %d Salary: \" % (inputs + 1)))\n",
    "\n",
    "    text.write(name + ',' + str(age) + ',' + str(salary) + '\\n')\n",
    "\n",
    "\n",
    "    inputs += 1\n",
    "\n",
    "text.close()"
   ]
  },
  {
   "cell_type": "code",
   "execution_count": 23,
   "metadata": {},
   "outputs": [
    {
     "name": "stdout",
     "output_type": "stream",
     "text": [
      "Alice\n",
      "22\n",
      "22000.0\n",
      "Bob\n",
      "33\n",
      "33000.0\n",
      "Cat\n",
      "44\n",
      "44000.0\n"
     ]
    }
   ],
   "source": [
    "class Employee(object):\n",
    "\n",
    "    # employeeName = name\n",
    "    # employeeAge = age\n",
    "    # emplyeeSalary = salary\n",
    "    \n",
    "\n",
    "    # name = input(\"Enter Employee name: \")\n",
    "    # age = int(input(\"Enter Employee Age: \"))\n",
    "    # salary = float(input(\"enter Emplyee Salary: \"))\n",
    "    \n",
    "    \n",
    "    def __init__(self,name,age,salary):\n",
    "        self.name = name\n",
    "        self.age = age\n",
    "        self.salary = salary\n",
    "        \n",
    "    def setEmployeeName(self,name):\n",
    "        self.name = name\n",
    "        \n",
    "    def setEmployeeAge(self,age):\n",
    "        self.age = age\n",
    "        \n",
    "    def setEmployeeSalary(self,salary):\n",
    "        self.salary = salary\n",
    "\n",
    "    def printEmployeeDetails(self):\n",
    "        print(self.name)\n",
    "        print(self.age)\n",
    "        print(self.salary)\n",
    "\n",
    "    def __str__(self):\n",
    "        result = self.name + \"\\n\" + str(self.age) + \"\\n\" + str(self.salary) + \"\\n\"\n",
    "        return result        \n",
    "\n",
    "    def printEmpDetails(self):\n",
    "        self.printEmployeeDetails()\n",
    "\n",
    "## Program to create Employees and write them to file employeelist.txt\n",
    "### Could embed here, but got tired of running it over and over\n",
    "#    text = open('employeelist.txt', 'a')\n",
    "\n",
    "#    inputs = 0\n",
    "#    maxInputs = 3\n",
    "\n",
    "#    while inputs < maxInputs:\n",
    "#        name = input(\"Enter Employee %d Name: \" % (inputs + 1))\n",
    "#        age = int(input(\"Enter Employee %d Age: \" % (inputs + 1)))\n",
    "#        salary = float(input(\"Enter Employee %d Salary: \" % (inputs + 1)))\n",
    "\n",
    "#        text.write(name + ',' + str(age) + ',' + str(salary) + '\\n')\n",
    "\n",
    "\n",
    "#        inputs += 1\n",
    "\n",
    "#    text.close()\n",
    "            \n",
    "## Program to Read employeelist.txt \n",
    "     \n",
    "text = open(\"employeelist.txt\", \"r\")\n",
    "\n",
    "\n",
    "employees = []\n",
    "while True:\n",
    "    line = text.readline()\n",
    "    if line == \"\":\n",
    "        break\n",
    "        \n",
    "    tokens = line.split(\",\")\n",
    "    \n",
    "    employee = Employee(tokens[0],int(tokens[1]),float(tokens[2]))\n",
    "    \n",
    "    employees.append(employee)\n",
    "    \n",
    "    \n",
    "for employee in employees:\n",
    "    employee.printEmpDetails()"
   ]
  },
  {
   "cell_type": "code",
   "execution_count": 22,
   "metadata": {},
   "outputs": [
    {
     "data": {
      "text/plain": [
       "[<__main__.Employee at 0x296a62e6cf8>,\n",
       " <__main__.Employee at 0x296a6250c18>,\n",
       " <__main__.Employee at 0x296a6307fd0>]"
      ]
     },
     "execution_count": 22,
     "metadata": {},
     "output_type": "execute_result"
    }
   ],
   "source": [
    "employees\n"
   ]
  },
  {
   "cell_type": "code",
   "execution_count": 18,
   "metadata": {},
   "outputs": [],
   "source": [
    "open('employeelist.txt', 'w').close()"
   ]
  },
  {
   "cell_type": "markdown",
   "metadata": {},
   "source": [
    "#### Exercise 5 -  Creating a Python calculator class\n",
    "\n",
    "Create a Python class called Calculator. \n",
    "\n",
    "The class has the following data members\n",
    "\n",
    "```\n",
    "1. number1 - type float\n",
    "2. number2 - type float\n",
    "```\n",
    "\n",
    "The class must have the below methods\n",
    "\n",
    "```\n",
    "1. add - adds two numbers and returns the result\n",
    "2. subtract - subtracts the first number from the second number and returns the result\n",
    "3. multiply - multiply two numbers and returns the result\n",
    "4. divide - divide the first number by the second number and returns the result\n",
    "5. __init__ - accepts two numbers and uses those numbers to initialize number1 and number2 respectively\n",
    "```\n",
    "\n",
    "Create an object of the Calculator class. Initialize it with any two arbitrary numbers. Invoke the methods add, subtract, multiple and divide and display the result\n",
    "\n",
    "\n"
   ]
  },
  {
   "cell_type": "code",
   "execution_count": 132,
   "metadata": {},
   "outputs": [
    {
     "name": "stdout",
     "output_type": "stream",
     "text": [
      "Enter your First Number: 45\n",
      "Enter your Second Number: 9\n",
      "The sum of 45.0 and 9.0 is:  54.0\n",
      "The difference of 45.0 and 9.0 is:  36.0\n",
      "The product of 45.0 and 9.0 is:  405.0\n",
      "The product of 45.0 divided by 9.0 is:  5.0\n"
     ]
    }
   ],
   "source": [
    "class calculator():\n",
    "\n",
    "    def __init__(self,number1,number2):\n",
    "        self.number1 = number1\n",
    "        self.number2 = number2\n",
    "\n",
    "        \n",
    "    \n",
    "    def sum2(self):\n",
    "        return self.number1 + self.number2\n",
    "\n",
    "    def diff2(self):\n",
    "        return self.number1 - self.number2\n",
    "\n",
    "    def prod2(self):\n",
    "        return self.number1 * self.number2\n",
    "\n",
    "    def div2(self):\n",
    "        return self.number1 / self.number2\n",
    "\n",
    "    def printNum(self,number1,number2):\n",
    "        print('The sum of', number1,'and',number2, 'is: ', obj.sum2())\n",
    "        print('The difference of', number1,'and',number2, 'is: ',obj.diff2())\n",
    "        print('The product of', number1,'and',number2, 'is: ',obj.prod2())\n",
    "        print('The product of', number1,'divided by',number2, 'is: ',obj.div2())\n",
    " \n",
    "\n",
    "\n",
    "\n",
    "    \n",
    "number1 = float(input('Enter your First Number: '))\n",
    "number2 = float(input('Enter your Second Number: '))\n",
    "\n",
    "obj = calculator(number1,number2) \n",
    "\n",
    "print('The sum of', number1,'and',number2, 'is: ', obj.sum2())\n",
    "print('The difference of', number1,'and',number2, 'is: ',obj.diff2())\n",
    "print('The product of', number1,'and',number2, 'is: ',obj.prod2())\n",
    "print('The product of', number1,'divided by',number2, 'is: ',obj.div2())\n",
    " \n",
    "    "
   ]
  },
  {
   "cell_type": "markdown",
   "metadata": {},
   "source": [
    "# Optional Exercise"
   ]
  },
  {
   "cell_type": "markdown",
   "metadata": {},
   "source": [
    "#### Exercise 6"
   ]
  },
  {
   "cell_type": "markdown",
   "metadata": {
    "collapsed": true
   },
   "source": [
    "In the next two problems, you’ll be building an address book using object-­‐oriented programming in Python. To begin, you’ll define a Person class. You’ll use this class in the next problem to build your address book – each entry in your address book will be an instance of the Person class.\n",
    "\n",
    "To begin, define the    init    and    str    methods for the Person class. Read the Python documentation if needed to help you understand what    init__ and    str \t need to do.\n",
    "\n",
    "Here’s an example interaction in the Python shell demonstrating how your class should work after implementing these two methods:"
   ]
  },
  {
   "cell_type": "raw",
   "metadata": {},
   "source": [
    "Emily = Person(“Zhang”, “Emily”, “5559358150”, “emzhang@mit.edu”)\n",
    "print Emily\n",
    "Zhang, Emily -- Phone Number: 5559358150 -- Email Address(es): emzhang@mit.edu\n",
    "Wesley = Person(“Graybill”, “Wesley”, “5551940325”, [‘wgray496@mit.edu’, ‘wdgraybill@gmail.com’])\n",
    "print Wesley\n",
    "Graybill, Wesley -- Phone Number: 5551940325 -- Email Address(es): wgray496@mit.edu, wdgraybill@gmail.com"
   ]
  },
  {
   "cell_type": "code",
   "execution_count": 5,
   "metadata": {},
   "outputs": [],
   "source": [
    "### YOUR CODE GOES \n",
    "\n",
    "\n",
    "### END CODE"
   ]
  },
  {
   "cell_type": "markdown",
   "metadata": {},
   "source": [
    "#### Exercise 7"
   ]
  },
  {
   "cell_type": "markdown",
   "metadata": {},
   "source": [
    "In this problem, you will use your Person class from the previous problem to create an address book for storing the contacts of your friends and family. It should allow you to search the address book for a friend, and return their contact information.\n",
    "\n",
    "Begin by defining an   init   method. Don’t forget about Python's built-­‐in dictionary data type.\n",
    "\n",
    "Next, write a method add_contact that allows you to add a new person to the address book.\n",
    "\n",
    "Finally, write a method lookup_contact that looks up a contact by last name. The method should accept the last name as an argument, and print each contact that matches the last name on a new line. As an additional challenge, extend this method to allow users to optionally specify a first name to narrow down the results when multiple contacts have the same last name. To learn more about optional arguments in Python, search for terms such as “optional arguments in Python” and “default arguments in Python”.\n",
    "\n",
    "For example, suppose the contact book contains entries for both Ali Kamil, and his wife Sama Kamil. The following is an example output:\n"
   ]
  },
  {
   "cell_type": "raw",
   "metadata": {},
   "source": [
    ">>> a = AddressBook()\n",
    ">>> a.add_person(Person(“Kamil”, “Ali”, … ))\n",
    ">>> a.add_person(Person(“Kamil”, “Sama”, … ))\n",
    ">>> a.lookup_contact(“Kamil”) Kamil, Ali -- Phone Number: … Kamil, Sama -- Phone Number: …\n",
    ">>> a.lookup_contact(“Kamil”, “Ali”)\n",
    "Kamil, Ali -- Phone Number: …\n"
   ]
  },
  {
   "cell_type": "code",
   "execution_count": 6,
   "metadata": {
    "collapsed": true
   },
   "outputs": [],
   "source": [
    "### YOUR CODE GOES \n",
    "\n",
    "\n",
    "### END CODE"
   ]
  },
  {
   "cell_type": "code",
   "execution_count": null,
   "metadata": {},
   "outputs": [],
   "source": []
  }
 ],
 "metadata": {
  "kernelspec": {
   "display_name": "Python 3",
   "language": "python",
   "name": "python3"
  },
  "language_info": {
   "codemirror_mode": {
    "name": "ipython",
    "version": 3
   },
   "file_extension": ".py",
   "mimetype": "text/x-python",
   "name": "python",
   "nbconvert_exporter": "python",
   "pygments_lexer": "ipython3",
   "version": "3.6.5"
  }
 },
 "nbformat": 4,
 "nbformat_minor": 2
}
