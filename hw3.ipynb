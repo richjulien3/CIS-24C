{
 "cells": [
  {
   "cell_type": "markdown",
   "metadata": {},
   "source": [
    "\n",
    "# CIS024C - Summer 2018 \n",
    "\n",
    "## Homework 3\n",
    "\n",
    "Homework 3 covers exercises in Conditionals and Repetition. It involves the user of the if..elif..else statements and the for/while loops.\n",
    "\n",
    "You will need to download this notebook and use this as a starting point for your homework. You will just need to fill in the content of each code-block (cell) and execute. Once you have completed all the exercises, you will need to save and upload this to your github repository under a folder called hw3.\n",
    "\n",
    "Note also the exercises build on top of one another so you might be able to do the next exercise if you have not completed the previous exercise.\n",
    "\n",
    "Post any questions you have on our Slack at **cis-024c1.slack.com**\n",
    "\n",
    "<h3><font color='red'>\n",
    "ALL THE WORK THAT WE DID IN CLASS DURING WEEK 2 IS NOW IN GITHUB AT THE BELOW LINK\n",
    "</font></h3>\n",
    "\n",
    "https://github.com/cis024c/spring2018classwork/blob/master/week2/week2_classwork.ipynb\n",
    "\n",
    "\n",
    "\n",
    "**Please refer back to hw1 and slack for instructions on how to setup your computer for developing using Python.**"
   ]
  },
  {
   "cell_type": "markdown",
   "metadata": {},
   "source": [
    "### Helpful Jupyter Commands\n",
    "\n",
    "Below are some useful commands to know when using Jupyter\n",
    "\n",
    "1. You can add a new cell by clicking on the \"+\" icon on top.\n",
    "2. You can delete a cell by selecting that cell and clicking on the \"scissors\" icon on top.\n",
    "3. You can execute a cell by either pressing shift+enter or selecting the \"play\" button on top.\n",
    "4. You can create a new file in Jupyter via the File menu->New Notebook option. Make sure to select Python 3 when creating your notebook.\n",
    "5. Also, for your code blocks make sure that Code is selected instead of another option like Markdown.\n",
    "6. Use the Enter key to go to the next line in a cell to enter the next statement.\n",
    "7. You can clear results by clicking on the Cell menu item and selecting Current Output->Clear or All Output->Clear depending on whether you are trying to just clear the output for one cell or for all cells.\n",
    "8. In case your program has crashed for some reason (infinite loop, for example), you can restart your Python session by select Kernel in the menu and selecting Restart.\n"
   ]
  },
  {
   "cell_type": "markdown",
   "metadata": {},
   "source": [
    "#### Check Python Version"
   ]
  },
  {
   "cell_type": "code",
   "execution_count": 1,
   "metadata": {},
   "outputs": [
    {
     "name": "stderr",
     "output_type": "stream",
     "text": [
      "Python 3.6.5 :: Anaconda, Inc.\n"
     ]
    }
   ],
   "source": [
    "!python --version"
   ]
  },
  {
   "cell_type": "markdown",
   "metadata": {},
   "source": [
    "#### Sample Exercises with conditionals and repetitions\n",
    "\n",
    "Refer to Week 2 classwork 2 for sample exercises - https://github.com/cis024c/spring2018classwork/blob/master/week2/week2_classwork.ipynb"
   ]
  },
  {
   "cell_type": "markdown",
   "metadata": {},
   "source": [
    "#### Exercise 1 - if statement\n",
    "\n",
    "Write a python program to accept a number from the user. Use the **if** statement to check to see if the number is greater than 100. If the number is greater than 100, print the message \"Found a number greater than 100\""
   ]
  },
  {
   "cell_type": "code",
   "execution_count": 2,
   "metadata": {},
   "outputs": [
    {
     "name": "stdout",
     "output_type": "stream",
     "text": [
      "Enter a number:125\n",
      "Found a number greater than 100\n"
     ]
    }
   ],
   "source": [
    "### YOUR CODE GOES \n",
    "userNumber = int(input(\"Enter a number:\"))\n",
    "if userNumber > 100:\n",
    "    print(\"Found a number greater than 100\")\n",
    "\n",
    "\n",
    "### END CODE"
   ]
  },
  {
   "cell_type": "markdown",
   "metadata": {},
   "source": [
    "#### Exercise 2 - if...else statement\n",
    "\n",
    "Write a python program to accept the name of a user. Use the **if** statement to check to see if the name is \"Joe\". If the name is \"Joe\", print the message \"User Joe was entered\", otherwise if the name is not \"Joe\", print a message saying that \"User Joe was not entered\" "
   ]
  },
  {
   "cell_type": "code",
   "execution_count": 3,
   "metadata": {},
   "outputs": [
    {
     "name": "stdout",
     "output_type": "stream",
     "text": [
      "Enter users first name:Joebob\n",
      "User Joe was not entered\n"
     ]
    }
   ],
   "source": [
    "### YOUR CODE GOES BELOW\n",
    "userName = input(\"Enter users first name:\")\n",
    "\n",
    "if userName == \"Joe\":\n",
    "    print(\"User Joe was entered\")\n",
    "else:\n",
    "    print(\"User Joe was not entered\")\n",
    "### END CODE"
   ]
  },
  {
   "cell_type": "markdown",
   "metadata": {},
   "source": [
    "#### Exercise 3 - if..elif...else statement\n",
    "\n",
    "Write a python program to accept the salary of the user. \n",
    "\n",
    "If the salary is **less than 70,000**, then print the message \"User salary is less than 70000\", otherwise if the salary is **less than 100,000**, print the message \"User salary is less than 100,000, otherwise, print the message \"User salary is greater than or equal to 100,000\""
   ]
  },
  {
   "cell_type": "code",
   "execution_count": 10,
   "metadata": {},
   "outputs": [
    {
     "name": "stdout",
     "output_type": "stream",
     "text": [
      "Enter a number:25000\n",
      "User salary is less than 70000\n"
     ]
    }
   ],
   "source": [
    "### YOUR CODE GOES BELOW\n",
    "userSalary = int(input(\"Enter a number:\"))\n",
    "\n",
    "if userSalary < 70000:\n",
    "    print(\"User salary is less than 70000\")\n",
    "\n",
    "elif userSalary > 70000 and userSalary < 100000:\n",
    "    print(\"User salary is less than 100,000\")\n",
    "\n",
    "elif userSalary >= 100000:\n",
    "    print(\"User salary is greater than or equal to 100,000\")\n",
    "\n",
    "### END CODE"
   ]
  },
  {
   "cell_type": "markdown",
   "metadata": {},
   "source": [
    "#### Exercise 4 - for loop\n",
    "\n",
    "Write a program to get a number from the user. Find the some of all numbers from 1 to the number that the user entered.\n",
    "\n",
    "For example, if the user enters 10, then you would need to find the sum of all numbers from 1 to 10 like so. Use the range statement in the for loop...see week 2 classwork for more information on the range statement\n",
    "\n",
    "\n",
    "```\n",
    "1+2+3+4+5+6+7+8+9+10\n",
    "```\n",
    "\n",
    "Print the result"
   ]
  },
  {
   "cell_type": "code",
   "execution_count": 7,
   "metadata": {},
   "outputs": [
    {
     "name": "stdout",
     "output_type": "stream",
     "text": [
      "Enter a number:7\n",
      "The sum of the numbers from 1 to 7 is: 28\n"
     ]
    }
   ],
   "source": [
    "### YOUR CODE GOES BELOW\n",
    "\n",
    "userNumber = int(input(\"Enter a number:\"))\n",
    "\n",
    "sum=0\n",
    "\n",
    "for i in range(0,userNumber + 1):\n",
    "    sum = sum + i\n",
    "\n",
    "print(\"The sum of the numbers from 1 to %s is: %s\" % (userNumber, sum))\n",
    "    \n",
    "### END CODE"
   ]
  },
  {
   "cell_type": "markdown",
   "metadata": {},
   "source": [
    "## I REALLY thought this was interesting - could you possibly explain in class?\n"
   ]
  },
  {
   "cell_type": "code",
   "execution_count": 76,
   "metadata": {},
   "outputs": [
    {
     "name": "stdout",
     "output_type": "stream",
     "text": [
      "Enter a number:6\n",
      "The sum of the first n numbers is:  0\n",
      "The sum of the first n numbers is:  1\n",
      "The sum of the first n numbers is:  3\n",
      "The sum of the first n numbers is:  6\n",
      "The sum of the first n numbers is:  10\n",
      "The sum of the first n numbers is:  15\n",
      "The sum of the first n numbers is:  21\n"
     ]
    }
   ],
   "source": [
    "## I REALLY thought this was interesting - could you possibly explain in class?\n",
    "\n",
    "userNumber = int(input(\"Enter a number:\"))\n",
    "\n",
    "sum=0\n",
    "for i in range(0,userNumber + 1):\n",
    "    sum = sum + i\n",
    "    print((\"The sum of the first n numbers is: \"), sum)"
   ]
  },
  {
   "cell_type": "code",
   "execution_count": 26,
   "metadata": {},
   "outputs": [
    {
     "name": "stdout",
     "output_type": "stream",
     "text": [
      "Enter a number: 5\n",
      "The sum of first n numbers is 15\n"
     ]
    }
   ],
   "source": [
    "# Seemed far more logical to me to use a while loop vs a for loop\n",
    "\n",
    "userNum = int(input(\"Enter a number: \"))\n",
    "\n",
    "sumNum = 0\n",
    "\n",
    "while(userNum > 0):\n",
    "    sumNum = sumNum + userNum\n",
    "    userNum = userNum - 1\n",
    "print(\"The sum of first n numbers is\",sumNum)\n"
   ]
  },
  {
   "cell_type": "markdown",
   "metadata": {},
   "source": [
    "#### Exercise - while loop\n",
    "\n",
    "**Guessing a number.**\n",
    "\n",
    "Initialize a variable called **myNumber** to any arbitrary value. For example, maybe you thought of a number 9\n",
    "\n",
    "Use the **while** loop to ask the user to enter a number. Check to see if the number entered by the user matches the number **myNumber** that you thought of. If there is a match, **break** from the **while** loop and print \"Yippee! User guessed the right number\". If there is no match allow the **while** loop to continue to ask the user for a number until a match is found\n"
   ]
  },
  {
   "cell_type": "code",
   "execution_count": 66,
   "metadata": {},
   "outputs": [
    {
     "name": "stdout",
     "output_type": "stream",
     "text": [
      "Enter a number: 4\n",
      "Try Again..\n",
      "Enter a number: 5\n",
      "Try Again..\n",
      "Enter a number: 8\n",
      "Try Again..\n",
      "Enter a number: 9\n",
      "Yippee! User guessed the right number\n"
     ]
    }
   ],
   "source": [
    "### YOUR CODE GOES BELOW\n",
    "\n",
    "i = 9\n",
    "myNum = int(input(\"Enter a number: \"))\n",
    "\n",
    "while i != myNum:\n",
    "    if myNum != i:\n",
    "        print (\"Try Again..\")\n",
    "        myNum = int(input(\"Enter a number: \"))\n",
    "    if myNum == i:\n",
    "        print(\"Yippee! User guessed the right number\")\n",
    "        break\n",
    "\n",
    "   \n",
    "       \n",
    "### END CODE"
   ]
  },
  {
   "cell_type": "markdown",
   "metadata": {},
   "source": [
    "## OPTIONAL EXERCISES\n",
    "\n",
    "Below is a set of optional exercises. These will not be graded but the solutions will be posted. I would strongly encourage you to try these out if you are done with the mandatory homework exercises to improve your understanding of python."
   ]
  },
  {
   "cell_type": "markdown",
   "metadata": {},
   "source": [
    "#### Exercise 6\n",
    "\n",
    "Write a Python program to convert temperatures to and from celsius, fahrenheit.\n",
    "\n",
    "[ Formula : c/5 = f-32/9 [ where c = temperature in celsius and f = temperature in fahrenheit ] "
   ]
  },
  {
   "cell_type": "code",
   "execution_count": 87,
   "metadata": {},
   "outputs": [
    {
     "name": "stdout",
     "output_type": "stream",
     "text": [
      "Enter a temperature: 89\n",
      "Is this Temp in C or F? Enter C or F: f\n",
      "Temperature in C is:  31.666666666666664\n"
     ]
    }
   ],
   "source": [
    "### YOUR CODE GOES BELOW\n",
    "\n",
    "myTemp = int(input(\"Enter a temperature: \"))\n",
    "tempType = (input(\"Is this Temp in C or F? Enter C or F: \"))\n",
    "\n",
    "if tempType == \"F\" or tempType ==\"f\":\n",
    "    print((\"Temperature in C is: \"), (((myTemp - 32)/9) * 5))  \n",
    "    \n",
    "if tempType == \"C\" or tempType == \"c\":\n",
    "    print((\"Temperature in F is: \"), (((myTemp / 5) *9 ) + 32)) \n",
    "\n",
    "\n",
    "\n",
    "### END CODE"
   ]
  },
  {
   "cell_type": "markdown",
   "metadata": {},
   "source": [
    "#### Exercise 7\n",
    "\n",
    "Write a Python program that prints all the numbers from 0 to 10 except 1 and 5. Use the **for** loop"
   ]
  },
  {
   "cell_type": "code",
   "execution_count": 127,
   "metadata": {},
   "outputs": [
    {
     "name": "stdout",
     "output_type": "stream",
     "text": [
      "0\n",
      "2\n",
      "3\n",
      "4\n",
      "6\n",
      "7\n",
      "8\n",
      "9\n",
      "10\n"
     ]
    }
   ],
   "source": [
    "### YOUR CODE GOES BELOW\n",
    "\n",
    "for i in range(11):\n",
    "    if i != 1 and i != 5:  \n",
    "        print(i)\n",
    "\n",
    "   \n",
    "        \n",
    "\n",
    "### END CODE"
   ]
  },
  {
   "cell_type": "markdown",
   "metadata": {},
   "source": [
    "#### Exercise 8\n",
    "\n",
    "Write a Python program that reads two integers representing a month and day and prints the season for that month and day. Refer to this URL https://www.timeanddate.com/calendar/aboutseasons.html for when a season starts and ends in North America (Northern Meteorological Seasons)"
   ]
  },
  {
   "cell_type": "code",
   "execution_count": 137,
   "metadata": {},
   "outputs": [
    {
     "name": "stdout",
     "output_type": "stream",
     "text": [
      "Input the month (January, February etc.): Dec\n",
      "Input the day: 15\n",
      "Season is Winter\n"
     ]
    }
   ],
   "source": [
    "### YOUR CODE GOES BELOW\n",
    "## Meteorological\n",
    "\n",
    "month = input(\"Input the month (January, February etc.): \")\n",
    "day = int(input(\"Input the day: \"))\n",
    "\n",
    "if month in (\"December\", \"January\", \"February\", \"Dec\", \"Jan\", \"Feb\"):\n",
    "        season = \"Winter\"\n",
    "elif month in (\"March\", \"Mar\", \"April\", \"Apr\", \"May\"):\n",
    "        season = 'spring'\n",
    "elif month in (\"June\", \"Jun\", \"July\", \"Jul\", \"August\", \"Aug\"):\n",
    "        season = \"Summer\"\n",
    "elif month in (\"September\", \"Sep\", \"Sept\", \"October\", \"Oct\", \"November\", \"Nov\"):\n",
    "        season = \"Fall\"\n",
    "\n",
    "print(\"Season is\",season)\n",
    "\n",
    "### END CODE"
   ]
  },
  {
   "cell_type": "code",
   "execution_count": null,
   "metadata": {},
   "outputs": [],
   "source": [
    "## For Astronomical, I would incorporate these\n",
    "\n",
    "if (month == \"March\") and (day > 19):\n",
    "    season = \"Spring\"\n",
    "elif (month == \"June\") and (day > 20):\n",
    "    season = \"Summer\"\n",
    "elif (month == \"September\") and (day > 21):\n",
    "    season = \"Fall\"\n",
    "elif (month == \"December\") and (day > 20):\n",
    "    season = \"Winter\""
   ]
  },
  {
   "cell_type": "markdown",
   "metadata": {},
   "source": [
    "#### Exercise 9\n",
    "\n",
    "Use a **while** loop to ask the user to enter a number. Print a running total of all the numbers that the user enters. If the user enters 0, break from the while loop."
   ]
  },
  {
   "cell_type": "code",
   "execution_count": 3,
   "metadata": {},
   "outputs": [
    {
     "name": "stdout",
     "output_type": "stream",
     "text": [
      "Enter any number: 6\n",
      "\n",
      " The sum of these numbers is:  6\n",
      "Enter any number: 12\n",
      "\n",
      " The sum of these numbers is:  18\n",
      "Enter any number: 1515\n",
      "\n",
      " The sum of these numbers is:  1533\n",
      "Enter any number: 0\n",
      "\n",
      " The sum of these numbers is:  1533\n"
     ]
    }
   ],
   "source": [
    "### YOUR CODE GOES BELOW\n",
    "total = 0\n",
    "i = 0\n",
    "\n",
    "while i < 10:\n",
    "    sumNum = int(input(\"Enter any number: \"))\n",
    "    total += sumNum\n",
    "    i += 1\n",
    "\n",
    "    print(\"\\n The sum of these numbers is: \", total)\n",
    "    \n",
    "    if sumNum is 0:\n",
    "        break\n",
    "\n",
    "### END CODE"
   ]
  },
  {
   "cell_type": "markdown",
   "metadata": {},
   "source": [
    "#### Exercise 10\n",
    "\n",
    "Write a Python program to create the multiplication table (from 1 to 10) of a number. Use the formatted print statements that you learnt in Week 2 and the **for** loop to print this table.\n",
    "\n",
    "Input a number: 6                                                       \n",
    "6 x 1 = 6                                                               \n",
    "6 x 2 = 12                                                              \n",
    "6 x 3 = 18                                                              \n",
    "6 x 4 = 24                                                              \n",
    "6 x 5 = 30                                                              \n",
    "6 x 6 = 36                                                              \n",
    "6 x 7 = 42                                                              \n",
    "6 x 8 = 48                                                              \n",
    "6 x 9 = 54                                                              \n",
    "6 x 10 = 60 "
   ]
  },
  {
   "cell_type": "code",
   "execution_count": 121,
   "metadata": {},
   "outputs": [
    {
     "name": "stdout",
     "output_type": "stream",
     "text": [
      "Enter a number between 1 and 10: 10\n",
      "10 x 1 = 10\n",
      "10 x 2 = 20\n",
      "10 x 3 = 30\n",
      "10 x 4 = 40\n",
      "10 x 5 = 50\n",
      "10 x 6 = 60\n",
      "10 x 7 = 70\n",
      "10 x 8 = 80\n",
      "10 x 9 = 90\n",
      "10 x 10 = 100\n"
     ]
    }
   ],
   "source": [
    "### YOUR CODE GOES BELOW\n",
    "## Not sure how to break the formula and repeat entry\n",
    "\n",
    "num = int(input(\"Enter a number between 1 and 10: \"))\n",
    "\n",
    "if num >= 11 or num <= 0:\n",
    "    print(\"Please enter a number between 1 and 10\")\n",
    "    \n",
    "for i in range(1, 11):\n",
    "    print(num,'x',i,'=',num*i)\n",
    "\n",
    "### END CODE"
   ]
  },
  {
   "cell_type": "code",
   "execution_count": null,
   "metadata": {},
   "outputs": [],
   "source": []
  }
 ],
 "metadata": {
  "kernelspec": {
   "display_name": "Python 3",
   "language": "python",
   "name": "python3"
  },
  "language_info": {
   "codemirror_mode": {
    "name": "ipython",
    "version": 3
   },
   "file_extension": ".py",
   "mimetype": "text/x-python",
   "name": "python",
   "nbconvert_exporter": "python",
   "pygments_lexer": "ipython3",
   "version": "3.6.5"
  }
 },
 "nbformat": 4,
 "nbformat_minor": 2
}
