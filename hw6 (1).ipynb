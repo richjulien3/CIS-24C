{
 "cells": [
  {
   "cell_type": "markdown",
   "metadata": {},
   "source": [
    "\n",
    "# CIS024C - Summer 2018\n",
    "\n",
    "## Homework 6\n",
    "\n",
    "Homework 6 covers exercises that involve working with files\n",
    "\n",
    "The below sites have some interesting and useful information on working with files\n",
    "\n",
    "http://www.pythonforbeginners.com/files/reading-and-writing-files-in-python\n",
    "\n",
    "You will need to download this notebook and use this as a starting point for your homework. You will just need to fill in the content of each code-block (cell) and execute. Once you have completed all the exercises, you will need to save and upload this to your github repository under a folder called hw5.\n",
    "\n",
    "Note also the exercises build on top of one another so you might be able to do the next exercise if you have not completed the previous exercise.\n",
    "\n",
    "Post any questions you have on our Slack at **cis-024c1.slack.com**\n",
    "\n",
    "** Slides ** for Week 5 can be found at \n",
    "\n",
    "https://docs.google.com/presentation/d/16cRqqIoZl15gX5QC2oEvS8NuUiPrhzOyC5UerGpuWOM/edit?usp=sharing\n",
    "\n",
    "**Please refer back to hw1 and slack for instructions on how to setup your computer for developing using Python.**"
   ]
  },
  {
   "cell_type": "markdown",
   "metadata": {},
   "source": [
    "### Helpful Jupyter Commands\n",
    "\n",
    "Below are some useful commands to know when using Jupyter\n",
    "\n",
    "1. You can add a new cell by clicking on the \"+\" icon on top.\n",
    "2. You can delete a cell by selecting that cell and clicking on the \"scissors\" icon on top.\n",
    "3. You can execute a cell by either pressing shift+enter or selecting the \"play\" button on top.\n",
    "4. You can create a new file in Jupyter via the File menu->New Notebook option. Make sure to select Python 2 when creating your notebook.\n",
    "5. Also, for your code blocks make sure that Code is selected instead of another option like Markdown.\n",
    "6. Use the Enter key to go to the next line in a cell to enter the next statement.\n",
    "7. You can clear results by clicking on the Cell menu item and selecting Current Output->Clear or All Output->Clear depending on whether you are trying to just clear the output for one cell or for all cells.\n",
    "8. In case your program has crashed for some reason (infinite loop, for example), you can restart your Python session by select Kernel in the menu and selecting Restart.\n"
   ]
  },
  {
   "cell_type": "markdown",
   "metadata": {},
   "source": [
    "#### Check Python Version"
   ]
  },
  {
   "cell_type": "code",
   "execution_count": null,
   "metadata": {},
   "outputs": [],
   "source": [
    "!python --version"
   ]
  },
  {
   "cell_type": "markdown",
   "metadata": {},
   "source": [
    "#### Sample Exercises with conditionals and repetitions\n",
    "\n",
    "Refer to Week 5 classwork for sample exercises - \n",
    "\n",
    "https://github.com/cis024c/fall2017classwork/tree/master/week5"
   ]
  },
  {
   "cell_type": "markdown",
   "metadata": {},
   "source": [
    "**Exercise 1 - Testing your knowledge of files **\n",
    "\n",
    "Answer the below questions\n",
    "\n",
    "1. In your own words, describe what a **file** is?\n",
    "2. Why is it important to close a file after we are done using it?"
   ]
  },
  {
   "cell_type": "markdown",
   "metadata": {},
   "source": [
    "1. A file is place where data is collected and organized so that it can be retrieved and manipulated as needed.  Files are generally either text or binary, where text is based on a common context (ASCII in the main) and binary has a custom context (a mapping that is specific to the app that created the file, which is often proprietary)\n",
    "2. It is important to close a file because There is an upper limit to the number of files that can be opened based on a limited number of file descriptors/handles so if you do not close it, you can run into conflicts that could otherwise be avoided.  Open files stand a higher potential for corruption and data loss.  Also, open files consume system resources, which you should release if possible to allow optimum performance."
   ]
  },
  {
   "cell_type": "markdown",
   "metadata": {},
   "source": [
    "#### Exercise 2 -  Write to a file\n",
    "\n",
    "Write a python program to write the below lines to a file\n",
    "\n",
    "- Name, Age, Gender, Profession\n",
    "- Harry, 23, Male, Software Engineer\n",
    "- Sam, 25, Male, Lawyer\n",
    "- Lisa, 29, Female, Computer Scientist\n",
    "- Mary, 22, Female, Doctor\n",
    "\n",
    "Below are a set of recommended steps to accomplish this\n",
    "1. open a file in write mode. This will return a handle to the file\n",
    "2. use the write method to write each line to the file using the file handle returned in the open call\n",
    "3. close the file when done\n",
    "\n",
    "Once done, go to the folder where the file is and open it to make sure that this is written.\n",
    "\n",
    "Refer to class exercises especially \"In [22]\" in https://github.com/cis024c/fall2017classwork/blob/master/week5/working_with_files.ipynb"
   ]
  },
  {
   "cell_type": "code",
   "execution_count": null,
   "metadata": {},
   "outputs": [],
   "source": [
    "### YOUR CODE GOES \n",
    "myFile = open(\"hw6.txt\",\"w\")\n",
    "\n",
    "myFile.write(\"Name, Age, Gender, Profession\\n\")\n",
    "myFile.write(\"Harry, 23, Male, Software Engineer\\n\")\n",
    "myFile.write(\"Sam, 25, Male, Lawyer\\n\")\n",
    "myFile.write(\"Lisa, 29, Female, Computer Scientist\\n\")\n",
    "myFile.write(\"Mary, 22, Female, Doctor\\n\")\n",
    "\n",
    "myFile\n",
    "\n",
    "myFile.close()\n",
    "\n",
    "### END CODE"
   ]
  },
  {
   "cell_type": "markdown",
   "metadata": {},
   "source": [
    "# hw6.txt\n",
    "\n",
    "##Name, Age, Gender, Profession \n",
    "##Harry, 23, Male, Software Engineer\n",
    "##Sam, 25, Male, Lawyer\n",
    "##Lisa, 29, Female, Computer Scientist\n",
    "##Mary, 22, Female, Doctor"
   ]
  },
  {
   "cell_type": "markdown",
   "metadata": {},
   "source": [
    "#### Exercise 3 - Reading from a file\n",
    "\n",
    "Read and display the data from the file you had just written to.\n",
    "\n",
    "Below are a set of recommended steps to accomplish this\n",
    "1. open the file in read mode. This will return a handle to the file.\n",
    "2. You can now iterate through each line in the file  and then use readline to read each line.\n",
    "3. Display each line as you read it in\n",
    "\n",
    "Note that you can also use the **read** method to read in all lines or the **readlines** method to read all lines into a list."
   ]
  },
  {
   "cell_type": "code",
   "execution_count": 3,
   "metadata": {},
   "outputs": [
    {
     "data": {
      "text/plain": [
       "['Name, Age, Gender, Profession\\n',\n",
       " 'Harry, 23, Male, Software Engineer\\n',\n",
       " 'Sam, 25, Male, Lawyer\\n',\n",
       " 'Lisa, 29, Female, Computer Scientist\\n',\n",
       " 'Mary, 22, Female, Doctor\\n']"
      ]
     },
     "execution_count": 3,
     "metadata": {},
     "output_type": "execute_result"
    }
   ],
   "source": [
    "### YOUR CODE GOES BELOW\n",
    "# Read as a list\n",
    "\n",
    "myFile = open(\"hw6.txt\",\"r\")\n",
    "\n",
    "myFile.readlines()\n",
    "\n",
    "\n",
    "\n",
    "### END CODE"
   ]
  },
  {
   "cell_type": "code",
   "execution_count": 2,
   "metadata": {},
   "outputs": [
    {
     "name": "stdout",
     "output_type": "stream",
     "text": [
      "Harry, 23, Male, Software Engineer\n",
      "\n",
      "Sam, 25, Male, Lawyer\n",
      "\n",
      "Lisa, 29, Female, Computer Scientist\n",
      "\n",
      "Mary, 22, Female, Doctor\n",
      "\n"
     ]
    }
   ],
   "source": [
    "# Read as lines\n",
    "\n",
    "myFile = open(\"hw6.txt\",\"r\")\n",
    "\n",
    "lines = myFile.readline()\n",
    "\n",
    "for line in myFile:\n",
    "    \n",
    "    print(line)\n",
    "    \n",
    "myFile.close()"
   ]
  },
  {
   "cell_type": "markdown",
   "metadata": {},
   "source": [
    "#### Exercise 4 - Finding the average age of users in a file\n",
    "\n",
    "Write a python program to find the average age of users in the file you just created.\n",
    "\n",
    "Below are a set of recommended steps to accomplish this\n",
    "1. Open the file in read mode\n",
    "2. Read in each line of the file\n",
    "3. Split each line in the file to get the age \n",
    "convert to Integer, sum\n",
    "4. Find the average age and display it"
   ]
  },
  {
   "cell_type": "code",
   "execution_count": 173,
   "metadata": {},
   "outputs": [
    {
     "name": "stdout",
     "output_type": "stream",
     "text": [
      "The Total of their ages is:\t  99\n",
      "The average of their ages is:\t  24.75\n"
     ]
    }
   ],
   "source": [
    "### YOUR CODE GOES BELOW\n",
    "\n",
    "\n",
    "myFile = open(\"hw6.txt\",\"r\")\n",
    "\n",
    "lines = myFile.readline()\n",
    "\n",
    "total = 0\n",
    "ages = 0\n",
    "\n",
    "for line in myFile:\n",
    "\n",
    "    lineSplit = line.split(\",\")\n",
    "    age = lineSplit[1]\n",
    "    ageInt = int(age)\n",
    "    \n",
    "    ages += 1\n",
    "    total += ageInt\n",
    "average = total / ages\n",
    "   \n",
    "print('The Total of their ages is:\\t ', total)\n",
    "print('The average of their ages is:\\t ',average)\n",
    "\n",
    "myFile.close()\n",
    "### END CODE"
   ]
  },
  {
   "cell_type": "markdown",
   "metadata": {},
   "source": [
    "#### Exercise 5 - Appending to a file\n",
    "\n",
    "Write a python program to append information provided by users to an existing file. \n",
    "\n",
    "You will need to \n",
    "1.  ask the user to enter their name, age, gender and profession using the **raw_input** method (for Python 3 users, you will use the **input** method).\n",
    "2.  open the file you just created in the above exercies in append mode and write this information to the file.\n",
    "\n",
    "Remember to make sure that the information you append is entered in the same format where each field is separated by commas.\n",
    "\n"
   ]
  },
  {
   "cell_type": "code",
   "execution_count": 39,
   "metadata": {},
   "outputs": [
    {
     "name": "stdout",
     "output_type": "stream",
     "text": [
      "Enter your name, age, gender and profession seperated by commas: Dana, 43, F, Nurse\n",
      "Dana, 43, F, Nurse\n"
     ]
    }
   ],
   "source": [
    "### YOUR CODE GOES BELOW\n",
    "# With input as a single string input\n",
    "\n",
    "newInput = input('Enter your name, age, gender and profession seperated by commas: ')\n",
    "\n",
    "myFile = open('hw6.txt','a')\n",
    "\n",
    "myFile.write(newInput + \"\\n\")\n",
    "\n",
    "myFile.close()\n",
    "\n",
    "\n",
    "\n",
    "print(newInput)\n",
    "\n",
    "### END CODE"
   ]
  },
  {
   "cell_type": "code",
   "execution_count": 77,
   "metadata": {},
   "outputs": [
    {
     "name": "stdout",
     "output_type": "stream",
     "text": [
      "Enter your Name: Mitch\n",
      "Enter your Age: 33\n",
      "Enter your Gender: F\n",
      "Enter your Profession: Mitch\n",
      "\n",
      "Mitch, 33, F, Mitch\n"
     ]
    }
   ],
   "source": [
    "# With input as multiple strings\n",
    "\n",
    "myFile = open('hw6.txt','a+')\n",
    "\n",
    "\n",
    "name = str(input(\"Enter your Name: \"))\n",
    "age = str(input(\"Enter your Age: \"))\n",
    "gender = str(input(\"Enter your Gender: \"))\n",
    "profession = str(input(\"Enter your Profession: \"))\n",
    "\n",
    "\n",
    "#name = \"Bob\"\n",
    "#age = \"35\"\n",
    "#gender = \"M\"\n",
    "#profession = \"Stud\"\n",
    "\n",
    "\n",
    "\n",
    "rawInput = str( '\\n' + name + ', ' + age + ', ' + gender + ', ' + profession)\n",
    "\n",
    "myFile.write(rawInput)\n",
    "\n",
    "myFile.close()\n",
    "\n",
    "\n",
    "\n",
    "print(rawInput)"
   ]
  },
  {
   "cell_type": "markdown",
   "metadata": {},
   "source": [
    "## OPTIONAL EXERCISES\n",
    "\n",
    "Below is a set of optional exercises. These will not be graded but the solutions will be posted. I would strongly encourage you to try these out if you are done with the mandatory homework exercises to improve your understanding of python."
   ]
  },
  {
   "cell_type": "markdown",
   "metadata": {},
   "source": [
    "#### NOTE \n",
    "\n",
    "For this program you will need to download the full text of Alice in Wonderland. This is available at this link http://www.gutenberg.org/files/11/11-0.txt\n",
    "\n",
    "For MAC users, you can download this directly from Jupyter by executing the below cell. Windows users might need to click on the link and download the file and save it to your computer. "
   ]
  },
  {
   "cell_type": "code",
   "execution_count": null,
   "metadata": {},
   "outputs": [],
   "source": [
    "# download alice text\n",
    "!curl 'http://www.gutenberg.org/files/11/11-0.txt' -o aliceText.txt"
   ]
  },
  {
   "cell_type": "markdown",
   "metadata": {},
   "source": [
    "#### Exercise 6\n",
    "\n",
    "Write a program to read the file aliceText.txt and count the number of times that the word \"house\" occurs in the text."
   ]
  },
  {
   "cell_type": "code",
   "execution_count": 1,
   "metadata": {},
   "outputs": [
    {
     "name": "stdout",
     "output_type": "stream",
     "text": [
      "The number of times the word house occurs is:  8\n"
     ]
    }
   ],
   "source": [
    "### YOUR CODE GOES BELOW\n",
    "\n",
    "fileAlice = open(\"Alice.txt\")\n",
    "\n",
    "count = fileAlice.read().split().count('house')\n",
    "\n",
    "print(\"The number of times the word house occurs is: \", count)\n",
    "\n",
    "fileAlice.close()\n",
    "### END CODE"
   ]
  },
  {
   "cell_type": "markdown",
   "metadata": {},
   "source": [
    "#### Exercise 7\n",
    "\n",
    "Write a python program to read the file aliceText.txt and find \n",
    "\n",
    "* the number of characters in the file\n",
    "* the number of words in the file\n",
    "* the number of lines in the file\n",
    "\n",
    "Display the result"
   ]
  },
  {
   "cell_type": "code",
   "execution_count": 23,
   "metadata": {},
   "outputs": [
    {
     "name": "stdout",
     "output_type": "stream",
     "text": [
      "The number of words in the file:  29465\n"
     ]
    }
   ],
   "source": [
    "### YOUR CODE GOES BELOW\n",
    "# of words\n",
    "\n",
    "fileAlice = open(\"Alice.txt\")\n",
    "\n",
    "\n",
    "contents = fileAlice.read()\n",
    "\n",
    "wordList = contents.split()\n",
    "\n",
    "wordCount = len(wordList)\n",
    "\n",
    "print(\"The number of words in the file: \", wordCount)\n",
    "\n",
    "fileAlice.close()\n",
    "\n",
    "### END CODE"
   ]
  },
  {
   "cell_type": "code",
   "execution_count": 38,
   "metadata": {},
   "outputs": [
    {
     "name": "stdout",
     "output_type": "stream",
     "text": [
      "The number of lines is:  3736\n",
      "The number of words is:  29465\n",
      "The number of characters is:  159013\n"
     ]
    }
   ],
   "source": [
    "fileName = open('Alice.txt', 'r')\n",
    "\n",
    "lines=0\n",
    "\n",
    "words=0\n",
    "\n",
    "characters=0\n",
    "\n",
    "for line in fileName:\n",
    "    \n",
    "    line = line.strip()\n",
    "    \n",
    "    wordslist = line.split()\n",
    "    \n",
    "    lines = lines + 1\n",
    "    \n",
    "    words = words + len(wordslist)\n",
    "    \n",
    "    characters = characters + len(line)\n",
    "\n",
    "fileName.close()\n",
    "    \n",
    "print('The number of lines is: ',lines)\n",
    "print('The number of words is: ',words)\n",
    "print('The number of characters is: ',characters)"
   ]
  },
  {
   "cell_type": "markdown",
   "metadata": {},
   "source": [
    "#### Exercise 8\n",
    "\n",
    "Write a Python program to read the file aliceText.txt and find the top 10 most frequent words in the file. Display the result\n",
    "\n",
    "Below are recommended steps for this program\n",
    "\n",
    "* Read the contents of the file\n",
    "* Initialize a dictionary to maintain the counts of each word\n",
    "* Loop through each word in the file\n",
    "    - If the word is new, then add to dictionary and initialize count to 1 for this word\n",
    "    - If the word is already in the dictionary, then increment the count of that word by 1\n",
    "* Use the **sorted** method to sort all values in descending order  - See the **example** code at the end of this assignment for an example on sorting a dictionary in reverse order by value"
   ]
  },
  {
   "cell_type": "code",
   "execution_count": 22,
   "metadata": {},
   "outputs": [
    {
     "name": "stdout",
     "output_type": "stream",
     "text": [
      "the Top Ten words in the file are:  ['the', 'and', 'to', 'a', 'of', 'she', 'said', 'in', 'it', 'was']\n"
     ]
    }
   ],
   "source": [
    "### YOUR CODE GOES BELOW\n",
    "\n",
    "fileAlice = open(\"Alice.txt\")\n",
    "\n",
    "contents = fileAlice.read()\n",
    "\n",
    "wordList = contents.split()\n",
    "\n",
    "wordCount = {}\n",
    "\n",
    "for word in wordList:\n",
    "    if word in wordCount:\n",
    "        wordCount[word] += 1\n",
    "    else:\n",
    "        wordCount[word] = 1\n",
    "        \n",
    "topWords = sorted(wordCount, key = wordCount.get, reverse = True)\n",
    "\n",
    "topTen = topWords[:10]\n",
    "\n",
    "print('the Top Ten words in the file are: ',topTen)\n",
    "\n",
    "\n",
    "### END CODE"
   ]
  },
  {
   "cell_type": "markdown",
   "metadata": {},
   "source": [
    "#### Example code for sorting a dictionary by value in reverse order"
   ]
  },
  {
   "cell_type": "code",
   "execution_count": 5,
   "metadata": {},
   "outputs": [
    {
     "name": "stdout",
     "output_type": "stream",
     "text": [
      "eight 8\n",
      "seven 7\n",
      "five 5\n",
      "four 4\n",
      "two 2\n",
      "one 1\n"
     ]
    }
   ],
   "source": [
    "myDict = {'seven': 7, 'four': 4, 'one': 1, 'two': 2, 'five': 5, 'eight': 8} \n",
    "sortedDict = sorted(myDict, key=myDict.get, reverse=True)\n",
    "\n",
    "for key in sortedDict:\n",
    "    print(key,myDict[key])"
   ]
  },
  {
   "cell_type": "code",
   "execution_count": null,
   "metadata": {},
   "outputs": [],
   "source": []
  }
 ],
 "metadata": {
  "kernelspec": {
   "display_name": "Python 3",
   "language": "python",
   "name": "python3"
  },
  "language_info": {
   "codemirror_mode": {
    "name": "ipython",
    "version": 3
   },
   "file_extension": ".py",
   "mimetype": "text/x-python",
   "name": "python",
   "nbconvert_exporter": "python",
   "pygments_lexer": "ipython3",
   "version": "3.6.5"
  }
 },
 "nbformat": 4,
 "nbformat_minor": 2
}
